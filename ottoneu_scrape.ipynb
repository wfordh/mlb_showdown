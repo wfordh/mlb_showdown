{
 "cells": [
  {
   "cell_type": "code",
   "execution_count": 1,
   "metadata": {},
   "outputs": [],
   "source": [
    "import pandas as pd\n",
    "from bs4 import BeautifulSoup\n",
    "import requests\n",
    "import numpy as np\n",
    "from collections import namedtuple"
   ]
  },
  {
   "cell_type": "code",
   "execution_count": 25,
   "metadata": {},
   "outputs": [],
   "source": [
    "def soupify_url(url):\n",
    "    r = requests.get(url)\n",
    "    c = r.content\n",
    "    \n",
    "    soup = BeautifulSoup(c, 'html.parser')\n",
    "    return soup\n",
    "\n",
    "def get_table_data(table):\n",
    "    rows = table.find_all('tr')\n",
    "    \n",
    "    data = []\n",
    "    for idx, row in enumerate(rows):\n",
    "        if idx==0:\n",
    "            headers = [elem.text.strip() for elem in row.find_all('th')]\n",
    "        else:\n",
    "            values = [elem.text.strip() for elem in row.find_all('td')]\n",
    "            data.append([x for x in values])\n",
    "    \n",
    "    return pd.DataFrame(data, columns=headers)"
   ]
  },
  {
   "cell_type": "markdown",
   "metadata": {},
   "source": [
    "## Transaction History"
   ]
  },
  {
   "cell_type": "code",
   "execution_count": 26,
   "metadata": {},
   "outputs": [],
   "source": [
    "url = 'https://ottoneu.fangraphs.com/953/transactions'\n",
    "soup = soupify_url(url)"
   ]
  },
  {
   "cell_type": "code",
   "execution_count": 27,
   "metadata": {},
   "outputs": [],
   "source": [
    "table_name = soup.find('main').find('h1').get_text()"
   ]
  },
  {
   "cell_type": "code",
   "execution_count": 28,
   "metadata": {},
   "outputs": [],
   "source": [
    "table = soup.find('main').find('table')"
   ]
  },
  {
   "cell_type": "code",
   "execution_count": 33,
   "metadata": {},
   "outputs": [],
   "source": [
    "transactions = get_table_data(table)"
   ]
  },
  {
   "cell_type": "markdown",
   "metadata": {},
   "source": [
    "https://ottoneu.fangraphs.com/953/transactions?page=34 (starts at zero index)\n",
    "\n",
    "might need to just walk through every page either with selenium or indexing\n",
    "\n",
    "set it to scrape every sunday. save existing transactions to csv, add new ones, and drop duplicates\n",
    "   - only scrape first page. if no duplicates, then scrape next page"
   ]
  },
  {
   "cell_type": "code",
   "execution_count": 34,
   "metadata": {},
   "outputs": [
    {
     "data": {
      "text/html": [
       "<div>\n",
       "<style scoped>\n",
       "    .dataframe tbody tr th:only-of-type {\n",
       "        vertical-align: middle;\n",
       "    }\n",
       "\n",
       "    .dataframe tbody tr th {\n",
       "        vertical-align: top;\n",
       "    }\n",
       "\n",
       "    .dataframe thead th {\n",
       "        text-align: right;\n",
       "    }\n",
       "</style>\n",
       "<table border=\"1\" class=\"dataframe\">\n",
       "  <thead>\n",
       "    <tr style=\"text-align: right;\">\n",
       "      <th></th>\n",
       "      <th>Date</th>\n",
       "      <th>Transaction Type</th>\n",
       "      <th>Player Name</th>\n",
       "      <th>Team Name</th>\n",
       "      <th>From Team</th>\n",
       "      <th>Salary</th>\n",
       "    </tr>\n",
       "  </thead>\n",
       "  <tbody>\n",
       "    <tr>\n",
       "      <th>0</th>\n",
       "      <td>Apr 21, 2019 13:56:17</td>\n",
       "      <td>cut</td>\n",
       "      <td>Scott Schebler</td>\n",
       "      <td>VORP Speed</td>\n",
       "      <td></td>\n",
       "      <td>$1</td>\n",
       "    </tr>\n",
       "    <tr>\n",
       "      <th>1</th>\n",
       "      <td>Apr 21, 2019 13:55:01</td>\n",
       "      <td>add</td>\n",
       "      <td>Scott Schebler</td>\n",
       "      <td>VORP Speed</td>\n",
       "      <td></td>\n",
       "      <td>$2</td>\n",
       "    </tr>\n",
       "    <tr>\n",
       "      <th>2</th>\n",
       "      <td>Apr 21, 2019 11:46:58</td>\n",
       "      <td>cut</td>\n",
       "      <td>Nick Pivetta</td>\n",
       "      <td>Bobblehead</td>\n",
       "      <td></td>\n",
       "      <td>$2</td>\n",
       "    </tr>\n",
       "    <tr>\n",
       "      <th>3</th>\n",
       "      <td>Apr 20, 2019 23:10:32</td>\n",
       "      <td>cut</td>\n",
       "      <td>Jon Lester</td>\n",
       "      <td>St. Clair Gorillas</td>\n",
       "      <td></td>\n",
       "      <td>$4</td>\n",
       "    </tr>\n",
       "    <tr>\n",
       "      <th>4</th>\n",
       "      <td>Apr 20, 2019 16:49:01</td>\n",
       "      <td>add</td>\n",
       "      <td>Hector Neris</td>\n",
       "      <td>Clueless Joes</td>\n",
       "      <td></td>\n",
       "      <td>$5</td>\n",
       "    </tr>\n",
       "  </tbody>\n",
       "</table>\n",
       "</div>"
      ],
      "text/plain": [
       "                    Date Transaction Type     Player Name           Team Name  \\\n",
       "0  Apr 21, 2019 13:56:17              cut  Scott Schebler          VORP Speed   \n",
       "1  Apr 21, 2019 13:55:01              add  Scott Schebler          VORP Speed   \n",
       "2  Apr 21, 2019 11:46:58              cut    Nick Pivetta          Bobblehead   \n",
       "3  Apr 20, 2019 23:10:32              cut      Jon Lester  St. Clair Gorillas   \n",
       "4  Apr 20, 2019 16:49:01              add    Hector Neris       Clueless Joes   \n",
       "\n",
       "  From Team Salary  \n",
       "0               $1  \n",
       "1               $2  \n",
       "2               $2  \n",
       "3               $4  \n",
       "4               $5  "
      ]
     },
     "execution_count": 34,
     "metadata": {},
     "output_type": "execute_result"
    }
   ],
   "source": [
    "transactions.head()"
   ]
  },
  {
   "cell_type": "code",
   "execution_count": 65,
   "metadata": {},
   "outputs": [
    {
     "data": {
      "text/plain": [
       "Bobblehead            10\n",
       "Enders Game            9\n",
       "Urbina Blight          9\n",
       "VORP Speed             5\n",
       "St. Clair Gorillas     4\n",
       "Clueless Joes          4\n",
       "the balking dead       3\n",
       "Peons                  3\n",
       "The Hobo Jungle        2\n",
       "Scotty Smalls          1\n",
       "Name: Team Name, dtype: int64"
      ]
     },
     "execution_count": 65,
     "metadata": {},
     "output_type": "execute_result"
    }
   ],
   "source": [
    "transactions['Team Name'].value_counts()"
   ]
  },
  {
   "cell_type": "markdown",
   "metadata": {},
   "source": [
    "## Individual Auctions"
   ]
  },
  {
   "cell_type": "code",
   "execution_count": 95,
   "metadata": {},
   "outputs": [],
   "source": [
    "# probably need Selenium to comb through the auction results\n",
    "auction_results_url = 'https://ottoneu.fangraphs.com/953/auctionresults?id=384614'\n",
    "ar = requests.get(auction_results_url)\n",
    "ar_c = ar.content\n",
    "\n",
    "ar_soup = BeautifulSoup(ar_c, 'html.parser')"
   ]
  },
  {
   "cell_type": "code",
   "execution_count": 96,
   "metadata": {},
   "outputs": [],
   "source": [
    "ar_head = ar_soup.find('main').find('h2').get_text().split()"
   ]
  },
  {
   "cell_type": "code",
   "execution_count": 97,
   "metadata": {},
   "outputs": [
    {
     "data": {
      "text/plain": [
       "['Auction', 'for', 'Sam', 'Gaviglio', 'TOR', 'SP/RP', 'R']"
      ]
     },
     "execution_count": 97,
     "metadata": {},
     "output_type": "execute_result"
    }
   ],
   "source": [
    "ar_head.split()"
   ]
  },
  {
   "cell_type": "code",
   "execution_count": 106,
   "metadata": {},
   "outputs": [],
   "source": [
    "player_name = [x for x in ar_head[1:-1] if x.istitle()]\n",
    "player_team = ar_head[-3]\n",
    "player_pos = ar_head[-2]\n",
    "player_hand = ar_head[-1]"
   ]
  },
  {
   "cell_type": "code",
   "execution_count": 99,
   "metadata": {},
   "outputs": [],
   "source": [
    "started_by = ' '.join(ar_soup.find_all('h3')[1].get_text().split()[3:])"
   ]
  },
  {
   "cell_type": "code",
   "execution_count": 100,
   "metadata": {},
   "outputs": [
    {
     "data": {
      "text/plain": [
       "'St. Clair Gorillas'"
      ]
     },
     "execution_count": 100,
     "metadata": {},
     "output_type": "execute_result"
    }
   ],
   "source": [
    "started_by"
   ]
  },
  {
   "cell_type": "code",
   "execution_count": 101,
   "metadata": {},
   "outputs": [],
   "source": [
    "all_bids = ar_soup.find('table')"
   ]
  },
  {
   "cell_type": "code",
   "execution_count": 102,
   "metadata": {},
   "outputs": [],
   "source": [
    "bid_rows = all_bids.find_all('tr')\n",
    "\n",
    "bid_data = []\n",
    "for idx, row in enumerate(bid_rows):\n",
    "    if idx == 0:\n",
    "        cols = row.find_all('th')\n",
    "    else:\n",
    "        cols = row.find_all('td')\n",
    "    cols = [ele.text.strip() for ele in cols]\n",
    "    bid_data.append([ele for ele in cols])"
   ]
  },
  {
   "cell_type": "code",
   "execution_count": 103,
   "metadata": {},
   "outputs": [
    {
     "data": {
      "text/plain": [
       "[['Team', 'Bid'], ['Clueless Joes', '$5'], ['St. Clair Gorillas', '$1']]"
      ]
     },
     "execution_count": 103,
     "metadata": {},
     "output_type": "execute_result"
    }
   ],
   "source": [
    "bid_data"
   ]
  },
  {
   "cell_type": "markdown",
   "metadata": {},
   "source": [
    "## League Finances"
   ]
  },
  {
   "cell_type": "code",
   "execution_count": 3,
   "metadata": {},
   "outputs": [],
   "source": [
    "finances_url = 'https://ottoneu.fangraphs.com/953/tools'\n",
    "fin_soup = soupify_url(finances_url)"
   ]
  },
  {
   "cell_type": "code",
   "execution_count": 9,
   "metadata": {},
   "outputs": [],
   "source": [
    "fin_table = fin_soup.find_all('section', {'class':'section-container'})[1].find('table')"
   ]
  },
  {
   "cell_type": "code",
   "execution_count": 35,
   "metadata": {},
   "outputs": [],
   "source": [
    "finances_df = get_table_data(fin_table)"
   ]
  },
  {
   "cell_type": "markdown",
   "metadata": {},
   "source": [
    "individual player transaction history?"
   ]
  },
  {
   "cell_type": "code",
   "execution_count": 36,
   "metadata": {},
   "outputs": [
    {
     "data": {
      "text/html": [
       "<div>\n",
       "<style scoped>\n",
       "    .dataframe tbody tr th:only-of-type {\n",
       "        vertical-align: middle;\n",
       "    }\n",
       "\n",
       "    .dataframe tbody tr th {\n",
       "        vertical-align: top;\n",
       "    }\n",
       "\n",
       "    .dataframe thead th {\n",
       "        text-align: right;\n",
       "    }\n",
       "</style>\n",
       "<table border=\"1\" class=\"dataframe\">\n",
       "  <thead>\n",
       "    <tr style=\"text-align: right;\">\n",
       "      <th></th>\n",
       "      <th>Team</th>\n",
       "      <th>Players</th>\n",
       "      <th>Spots</th>\n",
       "      <th>Base Salaries</th>\n",
       "      <th>Vote Off</th>\n",
       "      <th>Cap Penalties</th>\n",
       "      <th>Incoming Loans</th>\n",
       "      <th>Outgoing Loans</th>\n",
       "      <th>Available Cap Space</th>\n",
       "    </tr>\n",
       "  </thead>\n",
       "  <tbody>\n",
       "    <tr>\n",
       "      <th>0</th>\n",
       "      <td>Clueless Joes</td>\n",
       "      <td>41</td>\n",
       "      <td>41</td>\n",
       "      <td>$249</td>\n",
       "      <td>$0</td>\n",
       "      <td>$0</td>\n",
       "      <td>$0</td>\n",
       "      <td>$0</td>\n",
       "      <td>$151</td>\n",
       "    </tr>\n",
       "    <tr>\n",
       "      <th>1</th>\n",
       "      <td>St. Clair Gorillas</td>\n",
       "      <td>38</td>\n",
       "      <td>41</td>\n",
       "      <td>$387</td>\n",
       "      <td>$0</td>\n",
       "      <td>$8</td>\n",
       "      <td>$0</td>\n",
       "      <td>$0</td>\n",
       "      <td>$5</td>\n",
       "    </tr>\n",
       "    <tr>\n",
       "      <th>2</th>\n",
       "      <td>Launch Angela Merkel</td>\n",
       "      <td>38</td>\n",
       "      <td>40</td>\n",
       "      <td>$370</td>\n",
       "      <td>$0</td>\n",
       "      <td>$0</td>\n",
       "      <td>$0</td>\n",
       "      <td>$0</td>\n",
       "      <td>$30</td>\n",
       "    </tr>\n",
       "    <tr>\n",
       "      <th>3</th>\n",
       "      <td>Enders Game</td>\n",
       "      <td>40</td>\n",
       "      <td>40</td>\n",
       "      <td>$385</td>\n",
       "      <td>$0</td>\n",
       "      <td>$9</td>\n",
       "      <td>$0</td>\n",
       "      <td>$0</td>\n",
       "      <td>$6</td>\n",
       "    </tr>\n",
       "    <tr>\n",
       "      <th>4</th>\n",
       "      <td>Bobblehead</td>\n",
       "      <td>38</td>\n",
       "      <td>40</td>\n",
       "      <td>$333</td>\n",
       "      <td>$0</td>\n",
       "      <td>$18</td>\n",
       "      <td>$0</td>\n",
       "      <td>$0</td>\n",
       "      <td>$49</td>\n",
       "    </tr>\n",
       "  </tbody>\n",
       "</table>\n",
       "</div>"
      ],
      "text/plain": [
       "                   Team Players Spots Base Salaries Vote Off Cap Penalties  \\\n",
       "0         Clueless Joes      41    41          $249       $0            $0   \n",
       "1    St. Clair Gorillas      38    41          $387       $0            $8   \n",
       "2  Launch Angela Merkel      38    40          $370       $0            $0   \n",
       "3           Enders Game      40    40          $385       $0            $9   \n",
       "4            Bobblehead      38    40          $333       $0           $18   \n",
       "\n",
       "  Incoming Loans Outgoing Loans Available Cap Space  \n",
       "0             $0             $0                $151  \n",
       "1             $0             $0                  $5  \n",
       "2             $0             $0                 $30  \n",
       "3             $0             $0                  $6  \n",
       "4             $0             $0                 $49  "
      ]
     },
     "execution_count": 36,
     "metadata": {},
     "output_type": "execute_result"
    }
   ],
   "source": [
    "finances_df.head()"
   ]
  },
  {
   "cell_type": "code",
   "execution_count": 38,
   "metadata": {},
   "outputs": [
    {
     "data": {
      "text/plain": [
       "Team                   object\n",
       "Players                object\n",
       "Spots                  object\n",
       "Base Salaries          object\n",
       "Vote Off               object\n",
       "Cap Penalties          object\n",
       "Incoming Loans         object\n",
       "Outgoing Loans         object\n",
       "Available Cap Space    object\n",
       "dtype: object"
      ]
     },
     "execution_count": 38,
     "metadata": {},
     "output_type": "execute_result"
    }
   ],
   "source": [
    "finances_df.dtypes"
   ]
  },
  {
   "cell_type": "code",
   "execution_count": 41,
   "metadata": {},
   "outputs": [
    {
     "data": {
      "text/plain": [
       "0     249\n",
       "1     387\n",
       "2     370\n",
       "3     385\n",
       "4     333\n",
       "5     383\n",
       "6     365\n",
       "7     369\n",
       "8     399\n",
       "9     379\n",
       "10    379\n",
       "11    363\n",
       "Name: Base Salaries, dtype: int64"
      ]
     },
     "execution_count": 41,
     "metadata": {},
     "output_type": "execute_result"
    }
   ],
   "source": [
    "finances_df['Base Salaries'].str.replace('$', '').astype(int)"
   ]
  },
  {
   "cell_type": "code",
   "execution_count": 39,
   "metadata": {},
   "outputs": [
    {
     "data": {
      "text/plain": [
       "0     41\n",
       "1     38\n",
       "2     38\n",
       "3     40\n",
       "4     38\n",
       "5     38\n",
       "6     41\n",
       "7     40\n",
       "8     41\n",
       "9     39\n",
       "10    41\n",
       "11    41\n",
       "Name: Players, dtype: int64"
      ]
     },
     "execution_count": 39,
     "metadata": {},
     "output_type": "execute_result"
    }
   ],
   "source": [
    "finances_df.Players.astype(int)"
   ]
  },
  {
   "cell_type": "code",
   "execution_count": null,
   "metadata": {},
   "outputs": [],
   "source": []
  }
 ],
 "metadata": {
  "kernelspec": {
   "display_name": "Python 3",
   "language": "python",
   "name": "python3"
  },
  "language_info": {
   "codemirror_mode": {
    "name": "ipython",
    "version": 3
   },
   "file_extension": ".py",
   "mimetype": "text/x-python",
   "name": "python",
   "nbconvert_exporter": "python",
   "pygments_lexer": "ipython3",
   "version": "3.6.5"
  }
 },
 "nbformat": 4,
 "nbformat_minor": 2
}
